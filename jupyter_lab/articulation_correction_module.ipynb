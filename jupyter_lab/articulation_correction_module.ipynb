{
 "cells": [
  {
   "cell_type": "code",
   "execution_count": 19,
   "id": "010f0237-3f26-444f-949b-d3ebd5617c06",
   "metadata": {},
   "outputs": [
    {
     "name": "stdout",
     "output_type": "stream",
     "text": [
      "Serial port closed.\n"
     ]
    }
   ],
   "source": [
    "#포트 열린채로 예외 떴을 때 전용\n",
    "ser.close()\n",
    "print(\"Serial port closed.\")"
   ]
  },
  {
   "cell_type": "code",
   "execution_count": 21,
   "id": "b67426ca-4976-4058-8afd-705ea02a4293",
   "metadata": {},
   "outputs": [
    {
     "name": "stdout",
     "output_type": "stream",
     "text": [
      "--------Arduino ON--------\n",
      "Start measurement\n",
      "End measurement. (1.71sec)\n",
      "예상되는 조음 발음 위치: 치조음(alveolar)\n",
      "Start measurement\n",
      "End measurement. (1.91sec)\n",
      "예상되는 조음 발음 위치: 치조음(alveolar)\n",
      "Start measurement\n",
      "End measurement. (1.10sec)\n",
      "예상되는 조음 발음 위치: 치조음(alveolar)\n",
      "Start measurement\n",
      "End measurement. (1.30sec)\n",
      "예상되는 조음 발음 위치: 연구개음(soft_palate)\n",
      "Stop\n"
     ]
    }
   ],
   "source": [
    "import serial\n",
    "import time\n",
    "import torch\n",
    "import torch.nn as nn\n",
    "from torch.utils.data import DataLoader\n",
    "from rnn_model import RNNModel\n",
    "from custom_dataset import CustomDataset\n",
    "from padding import PaddingCollate\n",
    "\n",
    "# 저장된 모델 파일 경로\n",
    "model_file = 'rnn_model.pth'\n",
    "\n",
    "# 모델 불러오기\n",
    "model = RNNModel(input_size=2, hidden_size=50, output_size=1, num_layers=2)\n",
    "model.load_state_dict(torch.load(model_file))\n",
    "model.eval()  # 평가 모드로 설정\n",
    "\n",
    "# 시리얼 통신 설정\n",
    "ser = serial.Serial('COM8', 9600)\n",
    "time.sleep(2)\n",
    "\n",
    "# 발음 위치 예측 함수 정의\n",
    "def predict_pronunciation(input_pin1, input_pin2):\n",
    "    with torch.no_grad():  # 그라디언트 계산 비활성화\n",
    "        # 최대 길이에 맞춰서 패딩 추가\n",
    "        max_length = max(len(input_pin1), len(input_pin2))\n",
    "        input_pin1_padded = nn.functional.pad(input_pin1, (0, max_length - len(input_pin1)))\n",
    "        input_pin2_padded = nn.functional.pad(input_pin2, (0, max_length - len(input_pin2)))\n",
    "        # 모델 입력 준비\n",
    "        inputs = torch.stack([input_pin1_padded, input_pin2_padded], dim=1).float()  # 차원 변경\n",
    "        inputs = inputs.unsqueeze(0)  # 배치 차원 추가\n",
    "        # 모델 예측\n",
    "        output = model(inputs)\n",
    "        # 예측 결과를 라벨로 변환\n",
    "        predicted_label = convert_to_label(output.item())\n",
    "        return predicted_label\n",
    "\n",
    "# 모델 출력을 라벨로 변환하는 함수 정의\n",
    "def convert_to_label(prediction):\n",
    "    # 각 발음 위치의 범위 정의\n",
    "    label_ranges = {\n",
    "        '양순음(bilabial)': (0, 1),\n",
    "        '치조음(alveolar)': (1, 2),\n",
    "        '연구개음(soft_palate)': (2, 3),\n",
    "        '경구개음(palate)': (3, 4),\n",
    "        '후두음(guttural)': (4, 5)\n",
    "    }\n",
    "    # 모델 출력 값을 라벨로 변환\n",
    "    for label, (start, end) in label_ranges.items():\n",
    "        if start <= prediction < end:\n",
    "            return label\n",
    "    return \"Unknown\"  # 알 수 없는 경우\n",
    "\n",
    "try:\n",
    "    while True:\n",
    "        if ser.inWaiting() > 0:\n",
    "            line = ser.readline().decode('utf-8').rstrip()  # 데이터 읽기\n",
    "            if \"Arduino\" in line:\n",
    "                print(line)\n",
    "                \n",
    "            if \"Stop\" in line:\n",
    "                print(line)\n",
    "                ser.close()\n",
    "                break\n",
    "                \n",
    "            if \"Start measurement\" in line:\n",
    "                print(line)\n",
    "                current_measurement = {\"pin1\": [], \"pin2\": []}  # 새로운 측정을 위해 초기화\n",
    "            elif \"End measurement\" in line:\n",
    "                print(line)\n",
    "                # 발음 위치 예측\n",
    "                predicted_position = predict_pronunciation(torch.tensor(current_measurement['pin1']), \n",
    "                                                            torch.tensor(current_measurement['pin2']))\n",
    "                print(\"예상되는 조음 발음 위치:\", predicted_position)\n",
    "            elif line.startswith(\"pin1: \"):\n",
    "                value = int(line.split(\": \")[1])\n",
    "                current_measurement[\"pin1\"].append(value)\n",
    "            elif line.startswith(\"pin2: \"):\n",
    "                value = int(line.split(\": \")[1])\n",
    "                current_measurement[\"pin2\"].append(value)\n",
    "            \n",
    "except KeyboardInterrupt:\n",
    "    ser.close()\n",
    "    print(\"Serial port closed.\")\n"
   ]
  }
 ],
 "metadata": {
  "kernelspec": {
   "display_name": "Python 3 (ipykernel)",
   "language": "python",
   "name": "python3"
  },
  "language_info": {
   "codemirror_mode": {
    "name": "ipython",
    "version": 3
   },
   "file_extension": ".py",
   "mimetype": "text/x-python",
   "name": "python",
   "nbconvert_exporter": "python",
   "pygments_lexer": "ipython3",
   "version": "3.11.7"
  }
 },
 "nbformat": 4,
 "nbformat_minor": 5
}
