{
 "cells": [
  {
   "cell_type": "code",
   "execution_count": 1,
   "id": "3a44c249-15d5-4ab4-9a0d-cebb372a362a",
   "metadata": {},
   "outputs": [],
   "source": [
    "from tensorflow.keras.models import Sequential\n",
    "from tensorflow.keras.layers import LSTM, Dense\n"
   ]
  },
  {
   "cell_type": "code",
   "execution_count": 4,
   "id": "27852b2a-8d2f-4148-8b01-2294f2c10535",
   "metadata": {},
   "outputs": [
    {
     "ename": "SerialException",
     "evalue": "could not open port 'COM8': PermissionError(13, '액세스가 거부되었습니다.', None, 5)",
     "output_type": "error",
     "traceback": [
      "\u001b[1;31m---------------------------------------------------------------------------\u001b[0m",
      "\u001b[1;31mSerialException\u001b[0m                           Traceback (most recent call last)",
      "Cell \u001b[1;32mIn[4], line 6\u001b[0m\n\u001b[0;32m      3\u001b[0m \u001b[38;5;28;01mimport\u001b[39;00m \u001b[38;5;21;01mserial\u001b[39;00m\n\u001b[0;32m      4\u001b[0m \u001b[38;5;28;01mimport\u001b[39;00m \u001b[38;5;21;01mtime\u001b[39;00m\n\u001b[1;32m----> 6\u001b[0m ser \u001b[38;5;241m=\u001b[39m serial\u001b[38;5;241m.\u001b[39mSerial(\u001b[38;5;124m'\u001b[39m\u001b[38;5;124mCOM8\u001b[39m\u001b[38;5;124m'\u001b[39m, \u001b[38;5;241m9600\u001b[39m)\n\u001b[0;32m      7\u001b[0m time\u001b[38;5;241m.\u001b[39msleep(\u001b[38;5;241m2\u001b[39m)\n\u001b[0;32m      9\u001b[0m measurements \u001b[38;5;241m=\u001b[39m [] \u001b[38;5;66;03m# 측정한 전체 데이터\u001b[39;00m\n",
      "File \u001b[1;32m~\\anaconda3\\Lib\\site-packages\\serial\\serialwin32.py:33\u001b[0m, in \u001b[0;36mSerial.__init__\u001b[1;34m(self, *args, **kwargs)\u001b[0m\n\u001b[0;32m     31\u001b[0m \u001b[38;5;28mself\u001b[39m\u001b[38;5;241m.\u001b[39m_overlapped_read \u001b[38;5;241m=\u001b[39m \u001b[38;5;28;01mNone\u001b[39;00m\n\u001b[0;32m     32\u001b[0m \u001b[38;5;28mself\u001b[39m\u001b[38;5;241m.\u001b[39m_overlapped_write \u001b[38;5;241m=\u001b[39m \u001b[38;5;28;01mNone\u001b[39;00m\n\u001b[1;32m---> 33\u001b[0m \u001b[38;5;28msuper\u001b[39m(Serial, \u001b[38;5;28mself\u001b[39m)\u001b[38;5;241m.\u001b[39m\u001b[38;5;21m__init__\u001b[39m(\u001b[38;5;241m*\u001b[39margs, \u001b[38;5;241m*\u001b[39m\u001b[38;5;241m*\u001b[39mkwargs)\n",
      "File \u001b[1;32m~\\anaconda3\\Lib\\site-packages\\serial\\serialutil.py:244\u001b[0m, in \u001b[0;36mSerialBase.__init__\u001b[1;34m(self, port, baudrate, bytesize, parity, stopbits, timeout, xonxoff, rtscts, write_timeout, dsrdtr, inter_byte_timeout, exclusive, **kwargs)\u001b[0m\n\u001b[0;32m    241\u001b[0m     \u001b[38;5;28;01mraise\u001b[39;00m \u001b[38;5;167;01mValueError\u001b[39;00m(\u001b[38;5;124m'\u001b[39m\u001b[38;5;124munexpected keyword arguments: \u001b[39m\u001b[38;5;132;01m{!r}\u001b[39;00m\u001b[38;5;124m'\u001b[39m\u001b[38;5;241m.\u001b[39mformat(kwargs))\n\u001b[0;32m    243\u001b[0m \u001b[38;5;28;01mif\u001b[39;00m port \u001b[38;5;129;01mis\u001b[39;00m \u001b[38;5;129;01mnot\u001b[39;00m \u001b[38;5;28;01mNone\u001b[39;00m:\n\u001b[1;32m--> 244\u001b[0m     \u001b[38;5;28mself\u001b[39m\u001b[38;5;241m.\u001b[39mopen()\n",
      "File \u001b[1;32m~\\anaconda3\\Lib\\site-packages\\serial\\serialwin32.py:64\u001b[0m, in \u001b[0;36mSerial.open\u001b[1;34m(self)\u001b[0m\n\u001b[0;32m     62\u001b[0m \u001b[38;5;28;01mif\u001b[39;00m \u001b[38;5;28mself\u001b[39m\u001b[38;5;241m.\u001b[39m_port_handle \u001b[38;5;241m==\u001b[39m win32\u001b[38;5;241m.\u001b[39mINVALID_HANDLE_VALUE:\n\u001b[0;32m     63\u001b[0m     \u001b[38;5;28mself\u001b[39m\u001b[38;5;241m.\u001b[39m_port_handle \u001b[38;5;241m=\u001b[39m \u001b[38;5;28;01mNone\u001b[39;00m    \u001b[38;5;66;03m# 'cause __del__ is called anyway\u001b[39;00m\n\u001b[1;32m---> 64\u001b[0m     \u001b[38;5;28;01mraise\u001b[39;00m SerialException(\u001b[38;5;124m\"\u001b[39m\u001b[38;5;124mcould not open port \u001b[39m\u001b[38;5;132;01m{!r}\u001b[39;00m\u001b[38;5;124m: \u001b[39m\u001b[38;5;132;01m{!r}\u001b[39;00m\u001b[38;5;124m\"\u001b[39m\u001b[38;5;241m.\u001b[39mformat(\u001b[38;5;28mself\u001b[39m\u001b[38;5;241m.\u001b[39mportstr, ctypes\u001b[38;5;241m.\u001b[39mWinError()))\n\u001b[0;32m     66\u001b[0m \u001b[38;5;28;01mtry\u001b[39;00m:\n\u001b[0;32m     67\u001b[0m     \u001b[38;5;28mself\u001b[39m\u001b[38;5;241m.\u001b[39m_overlapped_read \u001b[38;5;241m=\u001b[39m win32\u001b[38;5;241m.\u001b[39mOVERLAPPED()\n",
      "\u001b[1;31mSerialException\u001b[0m: could not open port 'COM8': PermissionError(13, '액세스가 거부되었습니다.', None, 5)"
     ]
    }
   ],
   "source": [
    "# measurement\n",
    "\n",
    "import serial\n",
    "import time\n",
    "\n",
    "ser = serial.Serial('COM8', 9600)\n",
    "time.sleep(2)\n",
    "\n",
    "measurements = [] # 측정한 전체 데이터\n",
    "current_data = [] # 측정할 때 사용할 딕셔너리\n",
    "measurement_started = False\n",
    "saving = False\n",
    "try:\n",
    "    while True:\n",
    "        \n",
    "        if ser.inWaiting() > 0:\n",
    "            if \"Stop\" in line:\n",
    "                break\n",
    "            line = ser.readline().decode('utf-8').rstrip() # 데이터 읽기\n",
    "            print(line) # 읽은 데이터 출력\n",
    "            \n",
    "            if \"Start measurement\" in line:\n",
    "                measurement_started = True\n",
    "                current_measurement = {\"time\": time.time(), \"pin1\": [], \"pin2\": []}  # 새로운 측정을 위해 초기화\n",
    "            elif \"End measurement\" in line:\n",
    "                measurement_started = False\n",
    "                current_measurement[\"time\"] = time.time() - current_measurement[\"time\"]  # 측정 시간 계산\n",
    "                measurements.append(current_measurement)  # 현재 측정 데이터를 전체 리스트에 추가\n",
    "                print(measurements)\n",
    "            elif measurement_started:\n",
    "                if line.startswith(\"pin1: \"):\n",
    "                    value = int(line.split(\": \")[1])\n",
    "                    current_measurement[\"pin1\"].append(value)\n",
    "                elif line.startswith(\"pin2: \"):\n",
    "                    value = int(line.split(\": \")[1])\n",
    "                    current_measurement[\"pin2\"].append(value)\n",
    "            \n",
    "except KeyboardInterrupt:\n",
    "    ser.close()\n",
    "    print(\"Serial port closed.\")\n",
    "    print(\"Collected data:\", measurements)\n",
    "            "
   ]
  },
  {
   "cell_type": "code",
   "execution_count": null,
   "id": "9116d776-23b9-489d-b5a0-7e7d92935d89",
   "metadata": {},
   "outputs": [],
   "source": [
    "# save Dataset\n",
    "import torch\n",
    "from torch.utils.data import Dataset, DataLoader\n",
    "\n",
    "class CustomDataset(Dataset):\n",
    "    def __init__(self, data_dict):\n",
    "        self.data = data_dict\n",
    "        self.keys = list(data_dict.keys())  # 예를 들어, 각 키가 하나의 데이터 포인트에 해당한다고 가정\n",
    "\n",
    "    def __len__(self):\n",
    "        return len(self.keys)\n",
    "\n",
    "    def __getitem__(self, idx):\n",
    "        key = self.keys[idx]\n",
    "        data = self.data[key]\n",
    "        # 데이터를 텐서로 변환하고 필요한 전처리를 수행\n",
    "        x = torch.tensor(data['time'], dtype=torch.float)\n",
    "        y = torch.tensor(data['pin1'], dtype=torch.int)\n",
    "        z = torch.tensor(data['pin2'], dtype=torch.int)\n",
    "        return x, y, z\n",
    "dataSet = CustomDataset(measurements)\n",
    "torch.save(dataSet, 'potato.pth')\n"
   ]
  },
  {
   "cell_type": "code",
   "execution_count": null,
   "id": "e8fa066e-b085-4fc8-bdbb-24c1e122484f",
   "metadata": {},
   "outputs": [],
   "source": [
    "# load Dataset\n",
    "loaded_dataset = torch.load('dataset.pth')\n",
    "\n",
    "# DataLoader에 로드된 데이터셋 사용\n",
    "dataloader = DataLoader(loaded_dataset, batch_size=2, shuffle=True)\n",
    "\n",
    "for batch in dataloader:\n",
    "    inputs, labels = batch\n",
    "    print(inputs, labels)"
   ]
  }
 ],
 "metadata": {
  "kernelspec": {
   "display_name": "Python 3 (ipykernel)",
   "language": "python",
   "name": "python3"
  },
  "language_info": {
   "codemirror_mode": {
    "name": "ipython",
    "version": 3
   },
   "file_extension": ".py",
   "mimetype": "text/x-python",
   "name": "python",
   "nbconvert_exporter": "python",
   "pygments_lexer": "ipython3",
   "version": "3.11.7"
  }
 },
 "nbformat": 4,
 "nbformat_minor": 5
}
