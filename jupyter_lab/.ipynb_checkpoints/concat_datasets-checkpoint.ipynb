{
 "cells": [
  {
   "cell_type": "code",
   "execution_count": 17,
   "id": "165f08b0-3f7f-4049-babc-f5d92e37e278",
   "metadata": {},
   "outputs": [
    {
     "ename": "TypeError",
     "evalue": "tuple indices must be integers or slices, not str",
     "output_type": "error",
     "traceback": [
      "\u001b[1;31m---------------------------------------------------------------------------\u001b[0m",
      "\u001b[1;31mTypeError\u001b[0m                                 Traceback (most recent call last)",
      "Cell \u001b[1;32mIn[17], line 12\u001b[0m\n\u001b[0;32m      9\u001b[0m palate_data \u001b[38;5;241m=\u001b[39m \u001b[38;5;28mlist\u001b[39m(torch\u001b[38;5;241m.\u001b[39mload(\u001b[38;5;124m'\u001b[39m\u001b[38;5;124mpalate.pth\u001b[39m\u001b[38;5;124m'\u001b[39m))\n\u001b[0;32m     10\u001b[0m \u001b[38;5;66;03m#guttural_data = torch.load('guttural.pth')\u001b[39;00m\n\u001b[1;32m---> 12\u001b[0m bilabial_dataset \u001b[38;5;241m=\u001b[39m CustomDataset(bilabial_data)\n\u001b[0;32m     13\u001b[0m alveolar_dataset \u001b[38;5;241m=\u001b[39m CustomDataset(alveolar_data)\n\u001b[0;32m     14\u001b[0m \u001b[38;5;66;03m#soft_palate_dataset = CustomDataset(soft_palate_data)\u001b[39;00m\n",
      "File \u001b[1;32m~\\Desktop\\graduationProject\\jupyter_lab\\custom_dataset.py:8\u001b[0m, in \u001b[0;36mCustomDataset.__init__\u001b[1;34m(self, data_list, max_length)\u001b[0m\n\u001b[0;32m      6\u001b[0m \u001b[38;5;28mself\u001b[39m\u001b[38;5;241m.\u001b[39mdata \u001b[38;5;241m=\u001b[39m data_list\n\u001b[0;32m      7\u001b[0m \u001b[38;5;28;01mif\u001b[39;00m max_length \u001b[38;5;129;01mis\u001b[39;00m \u001b[38;5;28;01mNone\u001b[39;00m:\n\u001b[1;32m----> 8\u001b[0m     \u001b[38;5;28mself\u001b[39m\u001b[38;5;241m.\u001b[39mmax_length \u001b[38;5;241m=\u001b[39m \u001b[38;5;28mmax\u001b[39m(\u001b[38;5;28mlen\u001b[39m(data[\u001b[38;5;124m'\u001b[39m\u001b[38;5;124mpin1\u001b[39m\u001b[38;5;124m'\u001b[39m]) \u001b[38;5;28;01mfor\u001b[39;00m data \u001b[38;5;129;01min\u001b[39;00m data_list)\n\u001b[0;32m      9\u001b[0m \u001b[38;5;28;01melse\u001b[39;00m:\n\u001b[0;32m     10\u001b[0m     \u001b[38;5;28mself\u001b[39m\u001b[38;5;241m.\u001b[39mmax_length \u001b[38;5;241m=\u001b[39m max_length\n",
      "File \u001b[1;32m~\\Desktop\\graduationProject\\jupyter_lab\\custom_dataset.py:8\u001b[0m, in \u001b[0;36m<genexpr>\u001b[1;34m(.0)\u001b[0m\n\u001b[0;32m      6\u001b[0m \u001b[38;5;28mself\u001b[39m\u001b[38;5;241m.\u001b[39mdata \u001b[38;5;241m=\u001b[39m data_list\n\u001b[0;32m      7\u001b[0m \u001b[38;5;28;01mif\u001b[39;00m max_length \u001b[38;5;129;01mis\u001b[39;00m \u001b[38;5;28;01mNone\u001b[39;00m:\n\u001b[1;32m----> 8\u001b[0m     \u001b[38;5;28mself\u001b[39m\u001b[38;5;241m.\u001b[39mmax_length \u001b[38;5;241m=\u001b[39m \u001b[38;5;28mmax\u001b[39m(\u001b[38;5;28mlen\u001b[39m(data[\u001b[38;5;124m'\u001b[39m\u001b[38;5;124mpin1\u001b[39m\u001b[38;5;124m'\u001b[39m]) \u001b[38;5;28;01mfor\u001b[39;00m data \u001b[38;5;129;01min\u001b[39;00m data_list)\n\u001b[0;32m      9\u001b[0m \u001b[38;5;28;01melse\u001b[39;00m:\n\u001b[0;32m     10\u001b[0m     \u001b[38;5;28mself\u001b[39m\u001b[38;5;241m.\u001b[39mmax_length \u001b[38;5;241m=\u001b[39m max_length\n",
      "\u001b[1;31mTypeError\u001b[0m: tuple indices must be integers or slices, not str"
     ]
    }
   ],
   "source": [
    "import torch\n",
    "from torch.utils.data import ConcatDataset\n",
    "from custom_dataset import CustomDataset\n",
    "import pickle\n",
    "\n",
    "bilabial_data = list(torch.load('bilabial.pth'))\n",
    "alveolar_data = list(torch.load('alveolar.pth'))\n",
    "#soft_palate_data = torch.load('soft_palate.pth')\n",
    "palate_data = list(torch.load('palate.pth'))\n",
    "#guttural_data = torch.load('guttural.pth')\n",
    "\n",
    "bilabial_dataset = CustomDataset(bilabial_data)\n",
    "alveolar_dataset = CustomDataset(alveolar_data)\n",
    "#soft_palate_dataset = CustomDataset(soft_palate_data)\n",
    "palate_dataset = CustomDataset(palate_data)\n",
    "#guttural_dataset = CustomDataset(guttural_data)\n",
    "\n",
    "#concatenated_dataset = ConcatDataset([bilabial_dataset, alveolar_dataset, soft_palate_dataset, palate_dataset, guttural_dataset])\n",
    "concatenated_dataset = ConcatDataset([bilabial_dataset, alveolar_dataset, palate_dataset])\n",
    "\n",
    "# 각각의 데이터셋에 대해 적절한 라벨을 부여\n",
    "for idx in range(len(bilabial_data)):\n",
    "    bilabial_data[idx]['label'] = 0\n",
    "for idx in range(len(alveolar_data)):\n",
    "    alveolar_data[idx]['label'] = 1\n",
    "#for idx in range(len(soft_palate_data)):\n",
    " #   soft_palate_data[idx]['label'] = 2\n",
    "for idx in range(len(palate_data)):\n",
    "    palate_data[idx]['label'] = 3\n",
    "#for idx in range(len(guttural_data)):\n",
    " #   guttural_data[idx]['label'] = 4\n",
    "\n",
    "torch.save(concatenated_dataset, 'concatenated_dataset.pth')"
   ]
  },
  {
   "cell_type": "code",
   "execution_count": 20,
   "id": "27fd6ef0-ca6e-4d6a-a4cb-cae91c048193",
   "metadata": {},
   "outputs": [
    {
     "name": "stdout",
     "output_type": "stream",
     "text": [
      "<class 'list'>\n",
      "<class 'custom_dataset.CustomDataset'>\n"
     ]
    }
   ],
   "source": [
    "bilabial_data = list(torch.load('bilabial.pth'))\n",
    "bilabial_data_a = torch.load('alveolar.pth')\n",
    "\n",
    "# 데이터 형태 확인\n",
    "print(type(bilabial_data)) \n",
    "print(type(bilabial_data_a))"
   ]
  }
 ],
 "metadata": {
  "kernelspec": {
   "display_name": "Python 3 (ipykernel)",
   "language": "python",
   "name": "python3"
  },
  "language_info": {
   "codemirror_mode": {
    "name": "ipython",
    "version": 3
   },
   "file_extension": ".py",
   "mimetype": "text/x-python",
   "name": "python",
   "nbconvert_exporter": "python",
   "pygments_lexer": "ipython3",
   "version": "3.11.7"
  }
 },
 "nbformat": 4,
 "nbformat_minor": 5
}
