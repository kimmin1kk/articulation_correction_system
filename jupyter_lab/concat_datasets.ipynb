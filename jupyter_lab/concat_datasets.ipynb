{
 "cells": [
  {
   "cell_type": "code",
   "execution_count": 7,
   "id": "165f08b0-3f7f-4049-babc-f5d92e37e278",
   "metadata": {},
   "outputs": [
    {
     "ename": "AttributeError",
     "evalue": "'CustomDataset' object has no attribute 'max_length'",
     "output_type": "error",
     "traceback": [
      "\u001b[1;31m---------------------------------------------------------------------------\u001b[0m",
      "\u001b[1;31mAttributeError\u001b[0m                            Traceback (most recent call last)",
      "Cell \u001b[1;32mIn[7], line 12\u001b[0m\n\u001b[0;32m      9\u001b[0m palate_data \u001b[38;5;241m=\u001b[39m torch\u001b[38;5;241m.\u001b[39mload(\u001b[38;5;124m'\u001b[39m\u001b[38;5;124mpalate.pth\u001b[39m\u001b[38;5;124m'\u001b[39m)\n\u001b[0;32m     10\u001b[0m guttural_data \u001b[38;5;241m=\u001b[39m torch\u001b[38;5;241m.\u001b[39mload(\u001b[38;5;124m'\u001b[39m\u001b[38;5;124mguttural.pth\u001b[39m\u001b[38;5;124m'\u001b[39m)\n\u001b[1;32m---> 12\u001b[0m bilabial_dataset \u001b[38;5;241m=\u001b[39m CustomDataset(bilabial_data)\n\u001b[0;32m     13\u001b[0m alveolar_dataset \u001b[38;5;241m=\u001b[39m CustomDataset(alveolar_data)\n\u001b[0;32m     14\u001b[0m soft_palate_dataset \u001b[38;5;241m=\u001b[39m CustomDataset(soft_palate_data)\n",
      "File \u001b[1;32m~\\Desktop\\graduationProject\\jupyter_lab\\custom_dataset.py:9\u001b[0m, in \u001b[0;36mCustomDataset.__init__\u001b[1;34m(self, data_list)\u001b[0m\n\u001b[0;32m      6\u001b[0m \u001b[38;5;28mself\u001b[39m\u001b[38;5;241m.\u001b[39mdata \u001b[38;5;241m=\u001b[39m data_list  \u001b[38;5;66;03m# 데이터 == 딕셔너리의 리스트\u001b[39;00m\n\u001b[0;32m      8\u001b[0m \u001b[38;5;66;03m# 최대 길이 구함\u001b[39;00m\n\u001b[1;32m----> 9\u001b[0m \u001b[38;5;28mself\u001b[39m\u001b[38;5;241m.\u001b[39mmax_length \u001b[38;5;241m=\u001b[39m \u001b[38;5;28mmax\u001b[39m(\u001b[38;5;28mlen\u001b[39m(data[\u001b[38;5;124m'\u001b[39m\u001b[38;5;124mpin1\u001b[39m\u001b[38;5;124m'\u001b[39m]) \u001b[38;5;28;01mfor\u001b[39;00m data \u001b[38;5;129;01min\u001b[39;00m data_list)\n",
      "File \u001b[1;32m~\\Desktop\\graduationProject\\jupyter_lab\\custom_dataset.py:9\u001b[0m, in \u001b[0;36m<genexpr>\u001b[1;34m(.0)\u001b[0m\n\u001b[0;32m      6\u001b[0m \u001b[38;5;28mself\u001b[39m\u001b[38;5;241m.\u001b[39mdata \u001b[38;5;241m=\u001b[39m data_list  \u001b[38;5;66;03m# 데이터 == 딕셔너리의 리스트\u001b[39;00m\n\u001b[0;32m      8\u001b[0m \u001b[38;5;66;03m# 최대 길이 구함\u001b[39;00m\n\u001b[1;32m----> 9\u001b[0m \u001b[38;5;28mself\u001b[39m\u001b[38;5;241m.\u001b[39mmax_length \u001b[38;5;241m=\u001b[39m \u001b[38;5;28mmax\u001b[39m(\u001b[38;5;28mlen\u001b[39m(data[\u001b[38;5;124m'\u001b[39m\u001b[38;5;124mpin1\u001b[39m\u001b[38;5;124m'\u001b[39m]) \u001b[38;5;28;01mfor\u001b[39;00m data \u001b[38;5;129;01min\u001b[39;00m data_list)\n",
      "File \u001b[1;32m~\\anaconda3\\Lib\\site-packages\\torch\\utils\\data\\dataset.py:335\u001b[0m, in \u001b[0;36mConcatDataset.__getitem__\u001b[1;34m(self, idx)\u001b[0m\n\u001b[0;32m    333\u001b[0m \u001b[38;5;28;01melse\u001b[39;00m:\n\u001b[0;32m    334\u001b[0m     sample_idx \u001b[38;5;241m=\u001b[39m idx \u001b[38;5;241m-\u001b[39m \u001b[38;5;28mself\u001b[39m\u001b[38;5;241m.\u001b[39mcumulative_sizes[dataset_idx \u001b[38;5;241m-\u001b[39m \u001b[38;5;241m1\u001b[39m]\n\u001b[1;32m--> 335\u001b[0m \u001b[38;5;28;01mreturn\u001b[39;00m \u001b[38;5;28mself\u001b[39m\u001b[38;5;241m.\u001b[39mdatasets[dataset_idx][sample_idx]\n",
      "File \u001b[1;32m~\\anaconda3\\Lib\\site-packages\\torch\\utils\\data\\dataset.py:335\u001b[0m, in \u001b[0;36mConcatDataset.__getitem__\u001b[1;34m(self, idx)\u001b[0m\n\u001b[0;32m    333\u001b[0m \u001b[38;5;28;01melse\u001b[39;00m:\n\u001b[0;32m    334\u001b[0m     sample_idx \u001b[38;5;241m=\u001b[39m idx \u001b[38;5;241m-\u001b[39m \u001b[38;5;28mself\u001b[39m\u001b[38;5;241m.\u001b[39mcumulative_sizes[dataset_idx \u001b[38;5;241m-\u001b[39m \u001b[38;5;241m1\u001b[39m]\n\u001b[1;32m--> 335\u001b[0m \u001b[38;5;28;01mreturn\u001b[39;00m \u001b[38;5;28mself\u001b[39m\u001b[38;5;241m.\u001b[39mdatasets[dataset_idx][sample_idx]\n",
      "File \u001b[1;32m~\\Desktop\\graduationProject\\jupyter_lab\\custom_dataset.py:21\u001b[0m, in \u001b[0;36mCustomDataset.__getitem__\u001b[1;34m(self, idx)\u001b[0m\n\u001b[0;32m     18\u001b[0m x \u001b[38;5;241m=\u001b[39m torch\u001b[38;5;241m.\u001b[39mtensor(data_point[\u001b[38;5;124m'\u001b[39m\u001b[38;5;124mtime\u001b[39m\u001b[38;5;124m'\u001b[39m], dtype\u001b[38;5;241m=\u001b[39mtorch\u001b[38;5;241m.\u001b[39mfloat)\n\u001b[0;32m     20\u001b[0m \u001b[38;5;66;03m# pin1과 pin2를 패딩하여 텐서로 변환\u001b[39;00m\n\u001b[1;32m---> 21\u001b[0m y \u001b[38;5;241m=\u001b[39m \u001b[38;5;28mself\u001b[39m\u001b[38;5;241m.\u001b[39mpad_sequence(data_point[\u001b[38;5;124m'\u001b[39m\u001b[38;5;124mpin1\u001b[39m\u001b[38;5;124m'\u001b[39m], \u001b[38;5;28mself\u001b[39m\u001b[38;5;241m.\u001b[39mmax_length)\n\u001b[0;32m     22\u001b[0m z \u001b[38;5;241m=\u001b[39m \u001b[38;5;28mself\u001b[39m\u001b[38;5;241m.\u001b[39mpad_sequence(data_point[\u001b[38;5;124m'\u001b[39m\u001b[38;5;124mpin2\u001b[39m\u001b[38;5;124m'\u001b[39m], \u001b[38;5;28mself\u001b[39m\u001b[38;5;241m.\u001b[39mmax_length)\n\u001b[0;32m     24\u001b[0m \u001b[38;5;28;01mreturn\u001b[39;00m x, y, z\n",
      "\u001b[1;31mAttributeError\u001b[0m: 'CustomDataset' object has no attribute 'max_length'"
     ]
    }
   ],
   "source": [
    "import torch\n",
    "from torch.utils.data import ConcatDataset\n",
    "from custom_dataset import CustomDataset\n",
    "import pickle\n",
    "\n",
    "bilabial_data = torch.load('bilabial.pth')\n",
    "alveolar_data = torch.load('alveolar.pth')\n",
    "soft_palate_data = torch.load('soft_palate.pth')\n",
    "palate_data = torch.load('palate.pth')\n",
    "guttural_data = torch.load('guttural.pth')\n",
    "\n",
    "bilabial_dataset = CustomDataset(bilabial_data)\n",
    "alveolar_dataset = CustomDataset(alveolar_data)\n",
    "soft_palate_dataset = CustomDataset(soft_palate_data)\n",
    "palate_dataset = CustomDataset(palate_data)\n",
    "guttural_dataset = CustomDataset(guttural_data)\n",
    "\n",
    "concatenated_dataset = ConcatDataset([bilabial_dataset, alveolar_dataset, soft_palate_dataset, palate_dataset, guttural_dataset])\n",
    "\n",
    "# 각각의 데이터셋에 대해 적절한 라벨을 부여합니다.\n",
    "# 예를 들어, bilabial 데이터는 0번 클래스에 해당하고, alveolar 데이터는 1번 클래스에 해당합니다.\n",
    "# 이에 따라 각각의 데이터셋에 라벨을 추가합니다.\n",
    "for idx in range(len(bilabial_data)):\n",
    "    bilabial_data[idx]['label'] = 0\n",
    "for idx in range(len(alveolar_data)):\n",
    "    alveolar_data[idx]['label'] = 1\n",
    "for idx in range(len(soft_palate_data)):\n",
    "    soft_palate_data[idx]['label'] = 2\n",
    "for idx in range(len(palate_data)):\n",
    "    palate_data[idx]['label'] = 3\n",
    "for idx in range(len(guttural_data)):\n",
    "    guttural_data[idx]['label'] = 4\n",
    "\n",
    "torch.save(concatenated_dataset, 'concatenated_dataset.pth')"
   ]
  }
 ],
 "metadata": {
  "kernelspec": {
   "display_name": "Python 3 (ipykernel)",
   "language": "python",
   "name": "python3"
  },
  "language_info": {
   "codemirror_mode": {
    "name": "ipython",
    "version": 3
   },
   "file_extension": ".py",
   "mimetype": "text/x-python",
   "name": "python",
   "nbconvert_exporter": "python",
   "pygments_lexer": "ipython3",
   "version": "3.11.7"
  }
 },
 "nbformat": 4,
 "nbformat_minor": 5
}
